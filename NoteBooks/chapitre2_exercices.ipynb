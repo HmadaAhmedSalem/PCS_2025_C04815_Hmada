{
 "cells": [
  {
   "cell_type": "code",
   "execution_count": 5,
   "id": "e73a5a7f-a3c6-4d38-b83c-1f50cf0e8069",
   "metadata": {},
   "outputs": [
    {
     "name": "stdout",
     "output_type": "stream",
     "text": [
      "x = 2.3 n'est pas une racine de la fonction (f(x) = 9.715).\n"
     ]
    }
   ],
   "source": [
    "# Chapitre 2 Exo 1:\n",
    "\n",
    "def f(x):\n",
    "    return x**2 - 0.25*x + 5\n",
    "\n",
    "x = 2.3\n",
    "resultat = f(x)\n",
    "\n",
    "if resultat == 0:\n",
    "    print(f\"x = {x} est une racine de la fonction.\")\n",
    "else:\n",
    "    print(f\"x = {x} n'est pas une racine de la fonction (f(x) = {resultat}).\")"
   ]
  },
  {
   "cell_type": "code",
   "execution_count": 3,
   "id": "7b8bdb10-b82b-42bd-9194-2bdd8813b549",
   "metadata": {},
   "outputs": [
    {
     "name": "stdout",
     "output_type": "stream",
     "text": [
      "Première partie : cos(n x) + i sin(n x) = (-0.7071067811865475+0.7071067811865476j)\n",
      "Deuxième partie : (cos(x) + i sin(x))^n = (-0.7071067811865477+0.7071067811865477j)\n",
      "La formule de De Moivre n'est pas vérifiée.\n"
     ]
    }
   ],
   "source": [
    "# Chapitre 2 Exo2 :\n",
    "\n",
    "\n",
    "import cmath  # Bibliothèque pour les nombres complexes\n",
    "\n",
    "# declaration et affectation des valeurs\n",
    "n = 3\n",
    "x = cmath.pi / 4  # x en radians\n",
    "\n",
    "# Deuxième partie : (cos x + i sin x)^n\n",
    "z = cmath.cos(x) + 1j * cmath.sin(x)\n",
    "deuxieme_partie = z ** n\n",
    "\n",
    "# Première partie : cos(n x) + i sin(n x)\n",
    "premiere_partie = cmath.cos(n * x) + 1j * cmath.sin(n * x)\n",
    "\n",
    "# Affichage des résultats\n",
    "print(\"Première partie : cos(n x) + i sin(n x) =\", premiere_partie)\n",
    "print(\"Deuxième partie : (cos(x) + i sin(x))^n =\", deuxieme_partie)\n",
    "\n",
    "# Vérification\n",
    "if premiere_partie == deuxieme_partie:\n",
    "    print(\"La formule de De Moivre est vérifiée.\")\n",
    "else:\n",
    "    print(\"La formule de De Moivre n'est pas vérifiée.\")\n",
    "\n",
    "\n",
    "    "
   ]
  },
  {
   "cell_type": "code",
   "execution_count": 6,
   "id": "4f5ab9ab-3afa-4085-9fca-72655832f196",
   "metadata": {},
   "outputs": [
    {
     "name": "stdout",
     "output_type": "stream",
     "text": [
      "Première partie : e^(ix) = (0.5000000000000001+0.8660254037844386j)\n",
      "Deuxième partie : cos(x) + i*sin(x) = (0.5000000000000001+0.8660254037844386j)\n",
      "✅ La formule d'Euler est vérifiée.\n"
     ]
    }
   ],
   "source": [
    "# Chapitre 2 Exo 3:\n",
    "\n",
    "import cmath\n",
    "\n",
    "# declaration et affectaion de variable\n",
    "x = cmath.pi / 3  # par exemple x = π/3\n",
    "\n",
    "# Première partie : e^(ix)\n",
    "premiere_partie = cmath.exp(1j * x)\n",
    "\n",
    "# Deuxième partie : cos(x) + i*sin(x)\n",
    "deuxieme_partie = cmath.cos(x) + 1j * cmath.sin(x)\n",
    "\n",
    "# Affichage des résultats\n",
    "print(\"Première partie : e^(ix) =\", premiere_partie)\n",
    "print(\"Deuxième partie : cos(x) + i*sin(x) =\", deuxieme_partie)\n",
    "\n",
    "# Vérification avec tolérance\n",
    "tolerance = 1e-10\n",
    "if abs(premiere_partie - deuxieme_partie) < tolerance:\n",
    "    print(\"✅ La formule d'Euler est vérifiée.\")\n",
    "else:\n",
    "    print(\"❌ La formule d'Euler n'est pas vérifiée.\")"
   ]
  },
  {
   "cell_type": "code",
   "execution_count": 5,
   "id": "34ba2985-6f1f-4747-ad5a-5a46781ead8a",
   "metadata": {},
   "outputs": [
    {
     "name": "stdout",
     "output_type": "stream",
     "text": [
      "Convergence\n"
     ]
    }
   ],
   "source": [
    "#Chapitre 2 Exo 4:\n",
    "u = 1.0  # valeur initiale (flottant)\n",
    "uold = 10.0  # valeur de comparaison arbitraire au départ\n",
    "\n",
    "for iteration in range(2000):\n",
    "    if not abs(u - uold) > 1.e-8:\n",
    "        print('Convergence')\n",
    "        break  # la suite est considérée comme convergente\n",
    "    uold = u\n",
    "    u = 2 * u\n",
    "else:\n",
    "    print('No convergence')  # si la boucle se termine sans break\n",
    "\n",
    "\n",
    "\n",
    "    # Question 1 : le code affiche 'convergence' mais pas d’une vraie convergence mathématique !.\n",
    "    # Question 2 : Apparemment, le changement ne donne pas le même résultat !\n",
    "    # Question 3 : Si je remplace u=1.0 par u= 1 (changement e type implicitement) le programe affiche No convergence.\n",
    "\n",
    "# Question 4 : \n",
    "# La suite est divergente par définition, mais lorsqu’on exécute le programme avec u = 1.0 (un float), le code affiche \"Convergence\", alors qu’avec u = 1 (un int), il affiche \"No convergence\".\n",
    "\n",
    "# Ce phénomène s'explique par une fausse convergence numérique, causée par :\n",
    "\n",
    "# l’utilisation des nombres flottants (float), qui ont une précision limitée (environ 16 chiffres significatifs en Python),\n",
    "\n",
    "# la saturation des floats et la perte de précision qui rend u et uold identiques aux yeux du programme, même s’ils devraient être différents.\n"
   ]
  },
  {
   "cell_type": "code",
   "execution_count": 6,
   "id": "1a635429-82af-46ac-be5d-4bc3da7608be",
   "metadata": {},
   "outputs": [],
   "source": [
    "# Chapitre 2 Exo 5 :\n",
    "\n",
    "def implication(A, B):\n",
    "    return not A or B"
   ]
  },
  {
   "cell_type": "code",
   "execution_count": 4,
   "id": "9c765306-627f-4063-943f-130412f554d5",
   "metadata": {},
   "outputs": [],
   "source": [
    "# Chapitre 2 Exo 6 :\n",
    "def half_adder(p, q):\n",
    "    somme = p ^ q       # XOR pour la somme\n",
    "    retenue = p & q     # AND pour la retenue\n",
    "    return (somme, retenue)\n",
    "    \n",
    "def full_adder(p, q, cin):\n",
    "    # Première addition : p + q\n",
    "    s1, c1 = half_adder(p, q)\n",
    "    # Deuxième addition : (p + q) + cin\n",
    "    somme, c2 = half_adder(s1, cin)\n",
    "    # Retenue finale = c1 OR c2\n",
    "    retenue = c1 | c2\n",
    "    return (somme, retenue)"
   ]
  }
 ],
 "metadata": {
  "kernelspec": {
   "display_name": "Python [conda env:base] *",
   "language": "python",
   "name": "conda-base-py"
  },
  "language_info": {
   "codemirror_mode": {
    "name": "ipython",
    "version": 3
   },
   "file_extension": ".py",
   "mimetype": "text/x-python",
   "name": "python",
   "nbconvert_exporter": "python",
   "pygments_lexer": "ipython3",
   "version": "3.13.5"
  }
 },
 "nbformat": 4,
 "nbformat_minor": 5
}
